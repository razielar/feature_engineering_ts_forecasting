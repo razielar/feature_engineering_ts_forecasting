{
 "cells": [
  {
   "cell_type": "markdown",
   "metadata": {},
   "source": [
    "# MSTL\n",
    "### MSTL: Multiple Seasonal Trend decomposition using LOESS\n",
    "**LOESS**: Locally Estimated Scatterplot Smoothing (1988) ~ LOEWSS (1979)  \n",
    "Conda environment: `time-series`  \n",
    "17 Feb 2024   \n",
    "\n",
    "References:\n",
    "* [MSTL paper](https://arxiv.org/pdf/2107.13462.pdf)\n",
    "* [Nixtla implementation](https://nixtlaverse.nixtla.io/statsforecast/docs/models/multipleseasonaltrend.html)\n",
    "* [Kishan post](https://towardsdatascience.com/multi-seasonal-time-series-decomposition-using-mstl-in-python-136630e67530)"
   ]
  },
  {
   "cell_type": "code",
   "execution_count": 2,
   "metadata": {},
   "outputs": [],
   "source": [
    "import pandas as pd\n",
    "import numpy as np\n",
    "import matplotlib.pyplot as plt\n",
    "import seaborn as sns\n",
    "\n",
    "from statsmodels.tsa.seasonal import MSTL"
   ]
  },
  {
   "cell_type": "code",
   "execution_count": 3,
   "metadata": {},
   "outputs": [],
   "source": [
    "# Configs\n",
    "# Plot configs:\n",
    "sns.set_context(\"paper\", font_scale= 1.5)\n",
    "plt.rcParams['axes.spines.right'] = False\n",
    "plt.rcParams['axes.spines.top'] = False\n",
    "plotsize = (22, 5)\n",
    "plt.rcParams['figure.figsize'] = plotsize\n",
    "# Pandas config\n",
    "pd.options.display.float_format = '{:,.4f}'.format\n",
    "pd.options.display.max_columns = 200"
   ]
  },
  {
   "cell_type": "markdown",
   "metadata": {},
   "source": [
    "## 1) Input data"
   ]
  },
  {
   "cell_type": "code",
   "execution_count": null,
   "metadata": {},
   "outputs": [],
   "source": [
    "df = pd.read_csv()\n"
   ]
  }
 ],
 "metadata": {
  "kernelspec": {
   "display_name": "time-series",
   "language": "python",
   "name": "python3"
  },
  "language_info": {
   "codemirror_mode": {
    "name": "ipython",
    "version": 3
   },
   "file_extension": ".py",
   "mimetype": "text/x-python",
   "name": "python",
   "nbconvert_exporter": "python",
   "pygments_lexer": "ipython3",
   "version": "3.11.6"
  },
  "orig_nbformat": 4
 },
 "nbformat": 4,
 "nbformat_minor": 2
}
